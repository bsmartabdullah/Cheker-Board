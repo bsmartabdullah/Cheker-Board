{
  "nbformat": 4,
  "nbformat_minor": 0,
  "metadata": {
    "colab": {
      "provenance": [],
      "authorship_tag": "ABX9TyNAYdaXMAEi6WnpSwjVcxgb",
      "include_colab_link": true
    },
    "kernelspec": {
      "name": "python3",
      "display_name": "Python 3"
    },
    "language_info": {
      "name": "python"
    }
  },
  "cells": [
    {
      "cell_type": "markdown",
      "metadata": {
        "id": "view-in-github",
        "colab_type": "text"
      },
      "source": [
        "<a href=\"https://colab.research.google.com/github/bsmartabdullah/Cheker-Board/blob/main/Cheker_Board.ipynb\" target=\"_parent\"><img src=\"https://colab.research.google.com/assets/colab-badge.svg\" alt=\"Open In Colab\"/></a>"
      ]
    },
    {
      "cell_type": "code",
      "source": [
        "import numpy as np\n",
        "import cv2\n",
        "import matplotlib.pyplot as plt\n",
        "black = np.zeros((100,100),dtype= np.uint8)\n",
        "white = np.ones((10,10),dtype = np.uint8)\n",
        "black[0:10,0:10] = white\n",
        "black[10:20,10:20] = white\n",
        "square = black[0:20,0:20]\n",
        "chess = np.tile(square,(4,4))\n",
        "plt.imshow(chess,cmap = 'gray')"
      ],
      "metadata": {
        "colab": {
          "base_uri": "https://localhost:8080/",
          "height": 451
        },
        "id": "ebX5R3b9Njgu",
        "outputId": "23c5eb39-676d-47cb-e5b4-864386358aeb"
      },
      "execution_count": null,
      "outputs": [
        {
          "output_type": "execute_result",
          "data": {
            "text/plain": [
              "<matplotlib.image.AxesImage at 0x7d352a91b400>"
            ]
          },
          "metadata": {},
          "execution_count": 2
        },
        {
          "output_type": "display_data",
          "data": {
            "text/plain": [
              "<Figure size 640x480 with 1 Axes>"
            ],
            "image/png": "[encoded data removed]"
          },
          "metadata": {}
        }
      ]
    },
    {
      "cell_type": "code",
      "source": [
        "import numpy as np\n",
        "z_ones = np.tile([0,1],4)\n",
        "o_ones = np.tile([1,0],4)\n",
        "row_num = 0\n",
        "board = []\n",
        "while row_num <8:\n",
        "  if row_num %2 ==0:\n",
        "    board.append(list(o_ones))\n",
        "  else:\n",
        "    board.append(list(z_ones))\n",
        "  row_num +=1\n",
        "\n",
        "np.array(board)\n",
        "print(board)"
      ],
      "metadata": {
        "colab": {
          "base_uri": "https://localhost:8080/"
        },
        "id": "MCMcDhIa5yVF",
        "outputId": "3c2cfb45-bc77-42bf-8bd3-c7da2c9f5d69"
      },
      "execution_count": null,
      "outputs": [
        {
          "output_type": "stream",
          "name": "stdout",
          "text": [
            "[[1, 0, 1, 0, 1, 0, 1, 0], [0, 1, 0, 1, 0, 1, 0, 1], [1, 0, 1, 0, 1, 0, 1, 0], [0, 1, 0, 1, 0, 1, 0, 1], [1, 0, 1, 0, 1, 0, 1, 0], [0, 1, 0, 1, 0, 1, 0, 1], [1, 0, 1, 0, 1, 0, 1, 0], [0, 1, 0, 1, 0, 1, 0, 1]]\n"
          ]
        }
      ]
    }
  ]
}